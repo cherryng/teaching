{
 "cells": [
  {
   "cell_type": "markdown",
   "id": "f377157e",
   "metadata": {},
   "source": [
    "This is a tutorial on folding pulsar signals. \n",
    "\n",
    "Inspired by Peter Ma's version on github (https://github.com/PetchMa/Pulsar_Folding)"
   ]
  },
  {
   "cell_type": "markdown",
   "id": "4a469b9e",
   "metadata": {},
   "source": [
    "# Install the software"
   ]
  },
  {
   "cell_type": "code",
   "execution_count": 1,
   "id": "5a0ac921",
   "metadata": {},
   "outputs": [
    {
     "name": "stdout",
     "output_type": "stream",
     "text": [
      "\u001b[33mDEPRECATION: Configuring installation scheme with distutils config files is deprecated and will no longer work in the near future. If you are using a Homebrew or Linuxbrew Python, please see discussion at https://github.com/Homebrew/homebrew-core/issues/76621\u001b[0m\u001b[33m\n",
      "\u001b[0mRequirement already satisfied: blimpy in /usr/local/lib/python3.9/site-packages (2.0.32)\n",
      "Requirement already satisfied: astropy in /usr/local/lib/python3.9/site-packages (from blimpy) (5.2)\n",
      "Requirement already satisfied: numpy>=1.19 in /usr/local/lib/python3.9/site-packages (from blimpy) (1.23.1)\n",
      "Requirement already satisfied: six in /usr/local/lib/python3.9/site-packages (from blimpy) (1.15.0)\n",
      "Requirement already satisfied: setuptools in /usr/local/lib/python3.9/site-packages (from blimpy) (68.1.2)\n",
      "Requirement already satisfied: matplotlib in /usr/local/lib/python3.9/site-packages (from blimpy) (3.4.1)\n",
      "Requirement already satisfied: cython in /usr/local/lib/python3.9/site-packages (from blimpy) (0.29.23)\n",
      "Requirement already satisfied: h5py in /usr/local/lib/python3.9/site-packages (from blimpy) (3.2.1)\n",
      "Requirement already satisfied: scipy in /usr/local/lib/python3.9/site-packages (from blimpy) (1.11.0.dev0)\n",
      "Requirement already satisfied: hdf5plugin in /usr/local/lib/python3.9/site-packages (from blimpy) (2.3.2)\n",
      "Requirement already satisfied: pandas in /usr/local/lib/python3.9/site-packages (from blimpy) (1.2.3)\n",
      "Requirement already satisfied: Pillow in /usr/local/lib/python3.9/site-packages (from blimpy) (10.3.0)\n",
      "Requirement already satisfied: psutil in /usr/local/lib/python3.9/site-packages (from blimpy) (5.8.0)\n",
      "Requirement already satisfied: pyparsing==2.4.7 in /usr/local/lib/python3.9/site-packages (from blimpy) (2.4.7)\n",
      "Requirement already satisfied: pyerfa>=2.0 in /usr/local/lib/python3.9/site-packages (from astropy->blimpy) (2.0.1.1)\n",
      "Requirement already satisfied: PyYAML>=3.13 in /usr/local/lib/python3.9/site-packages (from astropy->blimpy) (6.0)\n",
      "Requirement already satisfied: packaging>=19.0 in /usr/local/lib/python3.9/site-packages (from astropy->blimpy) (23.0)\n",
      "Requirement already satisfied: cycler>=0.10 in /usr/local/lib/python3.9/site-packages (from matplotlib->blimpy) (0.10.0)\n",
      "Requirement already satisfied: kiwisolver>=1.0.1 in /usr/local/lib/python3.9/site-packages (from matplotlib->blimpy) (1.3.1)\n",
      "Requirement already satisfied: python-dateutil>=2.7 in /usr/local/lib/python3.9/site-packages (from matplotlib->blimpy) (2.8.2)\n",
      "Requirement already satisfied: pytz>=2017.3 in /usr/local/lib/python3.9/site-packages (from pandas->blimpy) (2023.4)\n",
      "\u001b[33mDEPRECATION: Configuring installation scheme with distutils config files is deprecated and will no longer work in the near future. If you are using a Homebrew or Linuxbrew Python, please see discussion at https://github.com/Homebrew/homebrew-core/issues/76621\u001b[0m\u001b[33m\n",
      "\u001b[0m\u001b[33mWARNING: There was an error checking the latest version of pip.\u001b[0m\u001b[33m\n",
      "\u001b[0m"
     ]
    }
   ],
   "source": [
    "!pip install blimpy"
   ]
  },
  {
   "cell_type": "markdown",
   "id": "54e9e87f",
   "metadata": {},
   "source": [
    "# Download the data"
   ]
  },
  {
   "cell_type": "code",
   "execution_count": 2,
   "id": "747c0464",
   "metadata": {},
   "outputs": [
    {
     "name": "stdout",
     "output_type": "stream",
     "text": [
      "--2024-06-21 16:23:00--  http://blpd13.ssl.berkeley.edu/borisov/AGBT19B_999_124/spliced_blc40414243444546o7o0515253545556o7o061626364656667_guppi_58837_86186_PSR_B0355+54_0013.gpuspec.8.0001.fil\n",
      "Resolving blpd13.ssl.berkeley.edu (blpd13.ssl.berkeley.edu)... 208.68.240.55\n",
      "Connecting to blpd13.ssl.berkeley.edu (blpd13.ssl.berkeley.edu)|208.68.240.55|:80... connected.\n",
      "HTTP request sent, awaiting response... 200 OK\n",
      "Length: 8776581466 (8.2G) [application/octet-stream]\n",
      "Saving to: ‘spliced_blc40414243444546o7o0515253545556o7o061626364656667_guppi_58837_86186_PSR_B0355+54_0013.gpuspec.8.0001.fil’\n",
      "\n",
      "spliced_blc40414243 100%[===================>]   8.17G  19.0MB/s    in 9m 6s   \n",
      "\n",
      "2024-06-21 16:32:08 (15.3 MB/s) - ‘spliced_blc40414243444546o7o0515253545556o7o061626364656667_guppi_58837_86186_PSR_B0355+54_0013.gpuspec.8.0001.fil’ saved [8776581466/8776581466]\n",
      "\n"
     ]
    }
   ],
   "source": [
    "!wget http://blpd13.ssl.berkeley.edu/borisov/AGBT19B_999_124/spliced_blc40414243444546o7o0515253545556o7o061626364656667_guppi_58837_86186_PSR_B0355+54_0013.gpuspec.8.0001.fil\n"
   ]
  },
  {
   "cell_type": "markdown",
   "id": "b7c6718d",
   "metadata": {},
   "source": [
    "# Reading the header information"
   ]
  },
  {
   "cell_type": "code",
   "execution_count": 1,
   "id": "88c1eb1b",
   "metadata": {},
   "outputs": [],
   "source": [
    "from blimpy import Waterfall\n",
    "\n",
    "obs = Waterfall('spliced_blc40414243444546o7o0515253545556o7o061626364656667_guppi_58837_86186_PSR_B0355+54_0013.gpuspec.8.0001.fil', \n",
    "               t_start=0,t_stop= 80000,max_load=10)\n",
    "\n",
    "data = obs.data\n",
    "\n",
    "obs.info()"
   ]
  },
  {
   "cell_type": "markdown",
   "id": "e3705401",
   "metadata": {},
   "source": [
    "##  Question 1: how long (in seconds) is the duration of this observation? \n",
    "    \n",
    "Hint: you can use `obs.header['tsamp']` to get the sampling rate and `data.shape[0]` to get the total number of samples.\n"
   ]
  },
  {
   "cell_type": "code",
   "execution_count": 3,
   "id": "dabfef7b",
   "metadata": {},
   "outputs": [
    {
     "name": "stdout",
     "output_type": "stream",
     "text": [
      "sampling rate is: 0.0003495253333333333\n",
      "total number of samples is: 80000\n"
     ]
    }
   ],
   "source": [
    "print('sampling rate is:',obs.header['tsamp'])\n",
    "print('total number of samples is:',data.shape[0])\n",
    "\n",
    "#Your code here to calculate the duration in seconds\n",
    "#..."
   ]
  },
  {
   "cell_type": "markdown",
   "id": "0887c5a8",
   "metadata": {},
   "source": [
    "## Question 2: how wide is the the bandwidth of the observation? \n",
    "\n",
    "Hint: you can use `obs.header['foff']` to get the the frequency resolution of the data, and `data.shape[2]` to get the total number of channels \n",
    " "
   ]
  },
  {
   "cell_type": "code",
   "execution_count": 5,
   "id": "25521276",
   "metadata": {},
   "outputs": [
    {
     "name": "stdout",
     "output_type": "stream",
     "text": [
      "frequency resolution is: -0.3662109375 MHz\n",
      "number of frequency channels is: 10240\n"
     ]
    }
   ],
   "source": [
    "print('frequency resolution is:', obs.header['foff'],'MHz')\n",
    "print('number of frequency channels is:', data.shape[2])\n",
    "\n",
    "#Your code here to calculate the bandwidth\n",
    "#..."
   ]
  },
  {
   "cell_type": "markdown",
   "id": "a28d55ee",
   "metadata": {},
   "source": [
    "# Viewing the spectrum"
   ]
  },
  {
   "cell_type": "code",
   "execution_count": 3,
   "id": "517fe598",
   "metadata": {},
   "outputs": [
    {
     "data": {
      "text/plain": [
       "Text(0.5, 0, 'Time samples')"
      ]
     },
     "execution_count": 3,
     "metadata": {},
     "output_type": "execute_result"
    },
    {
     "data": {
      "image/png": "[encoded data removed]",
      "text/plain": [
       "<Figure size 1080x504 with 1 Axes>"
      ]
     },
     "metadata": {
      "needs_background": "light"
     },
     "output_type": "display_data"
    }
   ],
   "source": [
    "import matplotlib.pyplot as plt\n",
    "%matplotlib inline\n",
    "\n",
    "fig = plt.figure(figsize=(15,7))\n",
    "plt.title('Spectrum before correction')\n",
    "plt.ylabel(\"Frequency channels\")\n",
    "plt.xlabel(\"Time samples\")\n",
    "plt.imshow(data[:,0,:].T, aspect='auto')\n",
    "plt.colorbar()"
   ]
  },
  {
   "cell_type": "code",
   "execution_count": 4,
   "id": "22f5e811",
   "metadata": {},
   "outputs": [
    {
     "name": "stdout",
     "output_type": "stream",
     "text": [
      "matplotlib.legend WARNING  No handles with labels found to put in legend.\n"
     ]
    },
    {
     "data": {
      "image/png": "[encoded data removed]",
      "text/plain": [
       "<Figure size 1080x504 with 1 Axes>"
      ]
     },
     "metadata": {
      "needs_background": "light"
     },
     "output_type": "display_data"
    }
   ],
   "source": [
    "Bandpass = data[:,0,:].mean(axis=0)\n",
    "\n",
    "fig = plt.figure(figsize=(15,7))\n",
    "plt.plot(Bandpass,label='original data')\n",
    "plt.xlabel('Frequency channels')\n",
    "plt.ylabel('Amplitude')\n",
    "plt.legend(loc=0)\n",
    "plt.grid()"
   ]
  },
  {
   "cell_type": "markdown",
   "id": "a564306a",
   "metadata": {},
   "source": [
    "# Bandpass removal using spline fitting"
   ]
  },
  {
   "cell_type": "markdown",
   "id": "20559022",
   "metadata": {},
   "source": [
    "## Question 3: what is an appropriate spline fit interval? \n",
    "\n",
    "Hint: look at the bandpass plot above to choose the interval based on the modulation of the data"
   ]
  },
  {
   "cell_type": "code",
   "execution_count": 8,
   "id": "18052924",
   "metadata": {},
   "outputs": [],
   "source": [
    "import numpy as np\n",
    "from scipy.interpolate import LSQUnivariateSpline\n",
    "\n",
    "data_corrected = np.zeros(data.shape)\n",
    "\n",
    "#Here input your interval\n",
    "#...\n",
    "spl_interval = \n",
    "\n",
    "knot_positions = np.arange(spl_interval/2, data.shape[2]-spl_interval/2, spl_interval)\n",
    "x = np.arange(0,data.shape[2])\n",
    "spline = LSQUnivariateSpline(x, Bandpass,knot_positions, k=1)\n",
    "y_fit = spline(x)\n",
    "\n",
    "for i in range(data.shape[0]):\n",
    "    data_corrected[i,0,:]  = data[i,0,:] - y_fit\n"
   ]
  },
  {
   "cell_type": "code",
   "execution_count": 5,
   "id": "4aa99efe",
   "metadata": {},
   "outputs": [
    {
     "data": {
      "text/plain": [
       "Text(0.5, 0, 'Time samples')"
      ]
     },
     "execution_count": 5,
     "metadata": {},
     "output_type": "execute_result"
    },
    {
     "data": {
      "image/png": "[encoded data removed]",
      "text/plain": [
       "<Figure size 1080x504 with 1 Axes>"
      ]
     },
     "metadata": {
      "needs_background": "light"
     },
     "output_type": "display_data"
    }
   ],
   "source": [
    "#Visualize the corrected data \n",
    "fig = plt.figure(figsize=(15,7))\n",
    "plt.title('After bandpass correction')\n",
    "plt.imshow(data_corrected[0:1000,0,:].T, aspect='auto')\n",
    "plt.ylabel('Frequency channels')\n",
    "plt.xlabel(\"Time samples\")\n",
    "plt.colorbar()"
   ]
  },
  {
   "cell_type": "code",
   "execution_count": 6,
   "id": "85df0eb3",
   "metadata": {},
   "outputs": [
    {
     "name": "stdout",
     "output_type": "stream",
     "text": [
      "matplotlib.legend WARNING  No handles with labels found to put in legend.\n"
     ]
    },
    {
     "data": {
      "image/png": "[encoded data removed]",
      "text/plain": [
       "<Figure size 1080x504 with 1 Axes>"
      ]
     },
     "metadata": {
      "needs_background": "light"
     },
     "output_type": "display_data"
    }
   ],
   "source": [
    "#Visualize the split fit\n",
    "fig = plt.figure(figsize=(15,7))\n",
    "plt.plot(Bandpass[0:2000],label='original data')\n",
    "plt.plot(y_fit[0:2000],label='spl_interval='+str(spl_interval))\n",
    "plt.xlabel('Frequency channels')\n",
    "plt.ylabel('Amplitude')\n",
    "plt.legend(loc=0)\n",
    "plt.grid()"
   ]
  },
  {
   "cell_type": "code",
   "execution_count": 10,
   "id": "81f5b114",
   "metadata": {},
   "outputs": [
    {
     "name": "stdout",
     "output_type": "stream",
     "text": [
      "matplotlib.legend WARNING  No handles with labels found to put in legend.\n"
     ]
    },
    {
     "data": {
      "image/png": "[encoded data removed]",
      "text/plain": [
       "<Figure size 1080x504 with 1 Axes>"
      ]
     },
     "metadata": {
      "needs_background": "light"
     },
     "output_type": "display_data"
    }
   ],
   "source": [
    "#Plot the time series to see the pulses\n",
    "TimeSeries_corrected = data_corrected.mean(axis=2)\n",
    "\n",
    "fig = plt.figure(figsize=(15,7))\n",
    "plt.plot(TimeSeries_corrected[0:10000])\n",
    "plt.xlabel(\"time samples\")\n",
    "plt.ylabel(\"Amplitude\")\n",
    "plt.legend(loc=0)\n",
    "plt.grid()"
   ]
  },
  {
   "cell_type": "markdown",
   "id": "575b7248",
   "metadata": {},
   "source": [
    "# Guessing the period and folding the data\n",
    "\n",
    "## Question 4: what do you think period is ? \n",
    "Enter it below and we will try to fold the data"
   ]
  },
  {
   "cell_type": "code",
   "execution_count": 12,
   "id": "e325ee9d",
   "metadata": {},
   "outputs": [],
   "source": [
    "period = "
   ]
  },
  {
   "cell_type": "code",
   "execution_count": 13,
   "id": "03ca3e27",
   "metadata": {},
   "outputs": [
    {
     "name": "stdout",
     "output_type": "stream",
     "text": [
      "Folded data shape (phase bin x freq chan) (200, 10240)\n",
      "No. of folded periods 400\n"
     ]
    }
   ],
   "source": [
    "from scipy import stats \n",
    "\n",
    "fold = np.zeros((period, data.shape[2]))\n",
    "print(\"Folded data shape (phase bin x freq chan)\", np.shape(fold))\n",
    "multiples = int(data.data.shape[0]/period)\n",
    "print('No. of folded periods', multiples)\n",
    "results = np.zeros((period))\n",
    "\n",
    "output = np.zeros((multiples-1, period))\n",
    "\n",
    "for i in range(multiples-1):\n",
    "  fold[:,:]=data_corrected[i*period:(i+1)*period,0,:]+ fold\n",
    "  results = fold.mean(axis=1) #Sum along frequency axis\n",
    "  results = results - results.min() #Move baseline to around 0\n",
    "  output[i,:] = results"
   ]
  },
  {
   "cell_type": "code",
   "execution_count": 14,
   "id": "4857b698",
   "metadata": {},
   "outputs": [
    {
     "name": "stdout",
     "output_type": "stream",
     "text": [
      "(399, 200)\n"
     ]
    },
    {
     "data": {
      "image/png": "[encoded data removed]",
      "text/plain": [
       "<Figure size 936x360 with 1 Axes>"
      ]
     },
     "metadata": {
      "needs_background": "light"
     },
     "output_type": "display_data"
    }
   ],
   "source": [
    "from matplotlib.animation import FuncAnimation\n",
    "plt.rcParams[\"animation.html\"] = \"jshtml\"\n",
    "\n",
    "fig, ax = plt.subplots(1, 1)\n",
    "fig.set_size_inches(13,5)\n",
    "\n",
    "print(output.shape)\n",
    "def animate(i):\n",
    "    ax.clear()\n",
    "    point = output[i,:]\n",
    "    ax.plot(point)\n",
    "    ax.set_xlabel('Phase bins')\n",
    "    ax.set_ylabel('Amplitude')\n",
    "    plt.grid()\n",
    "    \n",
    "ani = FuncAnimation(fig, animate, frames=multiples-1,\n",
    "                    interval=100, repeat=False)\n",
    "ani"
   ]
  },
  {
   "cell_type": "markdown",
   "id": "439d91d6",
   "metadata": {},
   "source": [
    "# More accurately determine the period using Fourier Transform"
   ]
  },
  {
   "cell_type": "code",
   "execution_count": 16,
   "id": "deec33de",
   "metadata": {},
   "outputs": [],
   "source": [
    "def FindPeakIndex(arr, ncand = 10):\n",
    "  candidate = []\n",
    "  arr2 = arr.copy() #make a copy of the data so we can still plot yf outside\n",
    "  for i in range(ncand):\n",
    "    index = np.argmax(arr2)\n",
    "    candidate.append(index+1)     # We add 1 as the 0th index = period of 1 not 0\n",
    "    arr2[index]=0   #replace that bin by zero so next time it doesn't get counted\n",
    "  return candidate  \n",
    " "
   ]
  },
  {
   "cell_type": "code",
   "execution_count": 17,
   "id": "b86b0808",
   "metadata": {},
   "outputs": [
    {
     "data": {
      "image/png": "[encoded data removed]",
      "text/plain": [
       "<Figure size 936x360 with 1 Axes>"
      ]
     },
     "metadata": {
      "needs_background": "light"
     },
     "output_type": "display_data"
    },
    {
     "name": "stdout",
     "output_type": "stream",
     "text": [
      "Most likely Candidates are: [1, 895, 79107, 716, 79286, 180, 79822, 537, 79465, 1074, 78928, 1610, 78392, 359, 79643]\n"
     ]
    }
   ],
   "source": [
    "#  Preforming the fourier transform.\n",
    "import scipy.fftpack\n",
    "from scipy.fft import fft\n",
    "\n",
    "y = abs(TimeSeries_corrected.reshape(-1))\n",
    "yf = np.abs(fft(y))\n",
    "\n",
    "ncand = 15\n",
    "candidates = FindPeakIndex(yf, ncand=ncand)\n",
    "\n",
    "fig, ax = plt.subplots(1, 1)\n",
    "fig.set_size_inches(13,5)\n",
    "\n",
    "xlim = 1000\n",
    "plt.plot(yf[0:xlim])\n",
    "for i in range(ncand):\n",
    "    plt.scatter(candidates[i]-1,yf[candidates[i]-1],c='r',marker='o')\n",
    "plt.grid()\n",
    "plt.title('Fourier Transform of Signal')\n",
    "plt.xlim(0,xlim)\n",
    "plt.xlabel(\"Periods (number of samples)\")\n",
    "plt.ylabel(\"Magnitude of Fourier Transform\")\n",
    "plt.show()\n",
    "\n",
    "print(\"Most likely Candidates are: \"+str(candidates))"
   ]
  },
  {
   "cell_type": "markdown",
   "id": "d7e381ac",
   "metadata": {},
   "source": [
    "# Folding the data by the period determined"
   ]
  },
  {
   "cell_type": "code",
   "execution_count": 30,
   "id": "b0370e2b",
   "metadata": {},
   "outputs": [
    {
     "name": "stdout",
     "output_type": "stream",
     "text": [
      "Folded data shape (phase bin x freq chan) (895, 10240)\n",
      "No. of folded periods 89\n"
     ]
    }
   ],
   "source": [
    "period = candidates[1]\n",
    "fold = np.zeros((period, data.shape[2]))\n",
    "print(\"Folded data shape (phase bin x freq chan)\", np.shape(fold))\n",
    "multiples = int(data.data.shape[0]/period)\n",
    "print('No. of folded periods', multiples)\n",
    "results = np.zeros((period))\n",
    "\n",
    "output = np.zeros((multiples-1, period))\n",
    "\n",
    "for i in range(multiples-1):\n",
    "  fold[:,:]=data[i*period:(i+1)*period,0,:]+ fold\n",
    "  results = fold.mean(axis=1) #Sum along frequency axis\n",
    "  results = results - results.min() #Move baseline to around 0\n",
    "  output[i,:] = results"
   ]
  },
  {
   "cell_type": "code",
   "execution_count": 18,
   "id": "cfec7abf",
   "metadata": {
    "scrolled": true
   },
   "outputs": [
    {
     "data": {
      "image/png": "[encoded data removed]",
      "text/plain": [
       "<Figure size 936x360 with 1 Axes>"
      ]
     },
     "metadata": {
      "needs_background": "light"
     },
     "output_type": "display_data"
    }
   ],
   "source": [
    "fig, ax = plt.subplots(1, 1)\n",
    "fig.set_size_inches(13,5)\n",
    "    \n",
    "ani = FuncAnimation(fig, animate, frames=multiples-1,\n",
    "                    interval=100, repeat=False)\n",
    "ani"
   ]
  },
  {
   "cell_type": "markdown",
   "id": "e12aa458",
   "metadata": {},
   "source": [
    "## Question 5: So what is the corresponding period in seconds we just folded? \n",
    "    \n",
    "Hint: you will need to use candidates[1] and obs.header['tsamp'] for the conversion.\n"
   ]
  },
  {
   "cell_type": "code",
   "execution_count": 22,
   "id": "4f55a128",
   "metadata": {},
   "outputs": [
    {
     "ename": "SyntaxError",
     "evalue": "invalid syntax (<ipython-input-22-77ea6bb8fd59>, line 1)",
     "output_type": "error",
     "traceback": [
      "\u001b[0;36m  File \u001b[0;32m\"<ipython-input-22-77ea6bb8fd59>\"\u001b[0;36m, line \u001b[0;32m1\u001b[0m\n\u001b[0;31m    folded_P =\u001b[0m\n\u001b[0m               ^\u001b[0m\n\u001b[0;31mSyntaxError\u001b[0m\u001b[0;31m:\u001b[0m invalid syntax\n"
     ]
    }
   ],
   "source": [
    "folded_P = \n",
    "\n",
    "print(\"Folded period is \", folded_P, \" seconds\")"
   ]
  },
  {
   "cell_type": "markdown",
   "id": "ee6a3f35",
   "metadata": {},
   "source": [
    "# Check the catalogue period\n",
    "\n",
    "Go to the website https://www.atnf.csiro.au/research/pulsar/psrcat/ and enter the period below"
   ]
  },
  {
   "cell_type": "markdown",
   "id": "e57c739d",
   "metadata": {},
   "source": [
    "## Question 6: Are the true period the same as the one we folded with? If not, why not?"
   ]
  }
 ],
 "metadata": {
  "kernelspec": {
   "display_name": "Python 3",
   "language": "python",
   "name": "python3"
  },
  "language_info": {
   "codemirror_mode": {
    "name": "ipython",
    "version": 3
   },
   "file_extension": ".py",
   "mimetype": "text/x-python",
   "name": "python",
   "nbconvert_exporter": "python",
   "pygments_lexer": "ipython3",
   "version": "3.9.18"
  }
 },
 "nbformat": 4,
 "nbformat_minor": 5
}
